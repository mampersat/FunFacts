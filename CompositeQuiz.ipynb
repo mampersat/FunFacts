{
 "cells": [
  {
   "cell_type": "code",
   "execution_count": 2,
   "metadata": {
    "collapsed": false
   },
   "outputs": [],
   "source": [
    "from bs4 import BeautifulSoup\n",
    "import requests\n",
    "\n",
    "def composit_us_presidents():\n",
    "    # Get wikipedia list of presidents\n",
    "    url = \"https://en.wikipedia.org/wiki/List_of_Presidents_of_the_United_States\"\n",
    "    r = requests.get(url)\n",
    "    soup = BeautifulSoup(r.text, 'html.parser')\n",
    "    l = soup.table\n",
    "    ps = l.find_all('tr')\n",
    "\n",
    "    # Pull name & img url into dictonary\n",
    "    composit = {}\n",
    "    for p in ps:\n",
    "        if p.b is not None:\n",
    "            name =p.find_all('td')[2].b.big.a.text\n",
    "            img_src = p.find_all('td')[0].img['src']\n",
    "            # make it a complete URI\n",
    "            img_src= \"http://{}\".format(img_src[2:])\n",
    "            composit[name] = img_src\n",
    "            \n",
    "    return composit\n",
    "\n",
    "def composit_dyn_employees():\n",
    "    # Parse local copy of employee photos\n",
    "    \n",
    "    soup = BeautifulSoup(open(\"North America.html\"), 'html.parser')\n",
    "    ps = soup.findAll(\"div\", { \"class\" : \"flip-entry\" })\n",
    "    \n",
    "    composit= {}\n",
    "    for p in ps:\n",
    "        name = p.findAll(\"div\", { \"class\" : \"flip-entry-title\"})[0].text\n",
    "        img_src = p.findAll(\"div\", { \"class\" : \"flip-entry-thumb\"})[0].img['src']\n",
    "        composit[name] = img_src\n",
    "    \n",
    "    return composit\n",
    "\n",
    "composit = composit_dyn_employees()"
   ]
  },
  {
   "cell_type": "code",
   "execution_count": 25,
   "metadata": {
    "collapsed": false,
    "scrolled": true
   },
   "outputs": [
    {
     "data": {
      "image/jpeg": "[encoded data removed]",
      "text/plain": [
       "<IPython.core.display.Image object>"
      ]
     },
     "metadata": {},
     "output_type": "display_data"
    },
    {
     "name": "stdout",
     "output_type": "stream",
     "text": [
      "1: Vita, Cara.JPG\n",
      "2: Sampat, SunilJPG.JPG\n",
      "3: Torrisi, Matthew.JPG\n",
      "4: McMurray, Becky(2).JPG\n",
      "\n",
      "Choice?3\n"
     ]
    },
    {
     "data": {
      "text/plain": [
       "True"
      ]
     },
     "execution_count": 25,
     "metadata": {},
     "output_type": "execute_result"
    }
   ],
   "source": [
    "import random\n",
    "from IPython.display import Image\n",
    "from IPython.display import display\n",
    "from IPython.core.display import HTML\n",
    "\n",
    "def question_user(composit):\n",
    "    choices= random.sample(composit.keys(), 4)\n",
    "    answer = choices[0]\n",
    "    random.shuffle(choices)\n",
    "    \n",
    "    img = composit[answer]\n",
    "    f = open(img, \"r\")\n",
    "    d = f.read()\n",
    "    display(Image(data = d, format='png'))\n",
    "    \n",
    "    for i in range(0,4):\n",
    "        print(\"{}: {}\").format(i+1, choices[i])\n",
    "    \n",
    "    print\n",
    "        \n",
    "    selection = raw_input(\"Choice?\" )\n",
    "    \n",
    "    return(choices[int(selection)-1] == answer)\n",
    "\n",
    "question_user(composit)\n"
   ]
  },
  {
   "cell_type": "code",
   "execution_count": null,
   "metadata": {
    "collapsed": false
   },
   "outputs": [
    {
     "name": "stdout",
     "output_type": "stream",
     "text": [
      "Good Luck : 0 out of 0\n"
     ]
    },
    {
     "data": {
      "image/jpeg": "[encoded data removed]",
      "text/plain": [
       "<IPython.core.display.Image object>"
      ]
     },
     "metadata": {},
     "output_type": "display_data"
    },
    {
     "name": "stdout",
     "output_type": "stream",
     "text": [
      "1: Young, Jon.JPG\n",
      "2: Brian, Dan.JPG\n",
      "3: Shaw, Phlllip.JPG\n",
      "4: Kane, Lauren.JPG\n",
      "\n",
      "Choice?3\n",
      "Correct! : 1 out of 1\n"
     ]
    },
    {
     "data": {
      "image/jpeg": "[encoded data removed]",
      "text/plain": [
       "<IPython.core.display.Image object>"
      ]
     },
     "metadata": {},
     "output_type": "display_data"
    },
    {
     "name": "stdout",
     "output_type": "stream",
     "text": [
      "1: Praturu, Madhu (2).JPG\n",
      "2: Smith, Katie.JPG\n",
      "3: McAullife, Dan.JPG\n",
      "4: Echeverria, Chad.JPG\n",
      "\n"
     ]
    }
   ],
   "source": [
    "from IPython.display import clear_output\n",
    "clear_output()\n",
    "\n",
    "right = asked = 0\n",
    "notice = \"Good Luck\"\n",
    "\n",
    "for q in range(1,20):\n",
    "    #clear_output()\n",
    "    print(\"{} : {} out of {}\").format(notice, right, asked)\n",
    "    asked +=1\n",
    "    if question_user(composit):\n",
    "        right +=1\n",
    "        notice = \"Correct!\"\n",
    "    else:\n",
    "        notice = \"Wrong\"\n",
    "    "
   ]
  },
  {
   "cell_type": "code",
   "execution_count": null,
   "metadata": {
    "collapsed": true
   },
   "outputs": [],
   "source": []
  }
 ],
 "metadata": {
  "kernelspec": {
   "display_name": "Python 2",
   "language": "python",
   "name": "python2"
  },
  "language_info": {
   "codemirror_mode": {
    "name": "ipython",
    "version": 2
   },
   "file_extension": ".py",
   "mimetype": "text/x-python",
   "name": "python",
   "nbconvert_exporter": "python",
   "pygments_lexer": "ipython2",
   "version": "2.7.6"
  }
 },
 "nbformat": 4,
 "nbformat_minor": 0
}
