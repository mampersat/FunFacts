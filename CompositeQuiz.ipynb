{
 "metadata": {
  "name": ""
 },
 "nbformat": 3,
 "nbformat_minor": 0,
 "worksheets": [
  {
   "cells": [
    {
     "cell_type": "code",
     "collapsed": false,
     "input": [
      "from bs4 import BeautifulSoup\n",
      "import requests\n",
      "\n",
      "# Get wikipedia list of presidents\n",
      "url = \"https://en.wikipedia.org/wiki/List_of_Presidents_of_the_United_States\"\n",
      "r = requests.get(url)\n",
      "soup = soup = BeautifulSoup(r.text, 'html.parser')\n",
      "l = soup.table\n",
      "ps = l.find_all('tr')\n",
      "\n",
      "# Pull name & img url into dictonary\n",
      "composit = {}\n",
      "for p in ps:\n",
      "    if p.b is not None:\n",
      "        name =p.find_all('td')[2].b.big.a.text\n",
      "        img_src = p.find_all('td')[0].img['src']\n",
      "        composit[name] = img_src"
     ],
     "language": "python",
     "metadata": {},
     "outputs": [],
     "prompt_number": 127
    },
    {
     "cell_type": "code",
     "collapsed": false,
     "input": [
      "composit\n",
      "\n",
      "\n"
     ],
     "language": "python",
     "metadata": {},
     "outputs": [
      {
       "metadata": {},
       "output_type": "pyout",
       "prompt_number": 128,
       "text": [
        "{u'Abraham Lincoln': u'//upload.wikimedia.org/wikipedia/commons/thumb/1/1b/Abraham_Lincoln_November_1863.jpg/165px-Abraham_Lincoln_November_1863.jpg',\n",
        " u'Andrew Jackson': u'//upload.wikimedia.org/wikipedia/commons/thumb/d/d8/Andrew_Jackson_Daguerrotype-crop.jpg/165px-Andrew_Jackson_Daguerrotype-crop.jpg',\n",
        " u'Andrew Johnson': u'//upload.wikimedia.org/wikipedia/commons/thumb/e/e6/Andrew_Johnson_photo_portrait_head_and_shoulders%2C_c1870-1880-Edit1.jpg/165px-Andrew_Johnson_photo_portrait_head_and_shoulders%2C_c1870-1880-Edit1.jpg',\n",
        " u'Barack Obama': u'//upload.wikimedia.org/wikipedia/commons/thumb/8/8d/President_Barack_Obama.jpg/165px-President_Barack_Obama.jpg',\n",
        " u'Benjamin Harrison': u'//upload.wikimedia.org/wikipedia/commons/thumb/f/f8/Benjamin_Harrison%2C_head_and_shoulders_bw_photo%2C_1896.jpg/165px-Benjamin_Harrison%2C_head_and_shoulders_bw_photo%2C_1896.jpg',\n",
        " u'Bill Clinton': u'//upload.wikimedia.org/wikipedia/commons/thumb/d/d3/Bill_Clinton.jpg/165px-Bill_Clinton.jpg',\n",
        " u'Calvin Coolidge': u'//upload.wikimedia.org/wikipedia/commons/thumb/7/78/Calvin_Coolidge_cph.3g10777.jpg/165px-Calvin_Coolidge_cph.3g10777.jpg',\n",
        " u'Chester A. Arthur': u'//upload.wikimedia.org/wikipedia/commons/thumb/7/79/Chester_Alan_Arthur.jpg/165px-Chester_Alan_Arthur.jpg',\n",
        " u'Dwight D. Eisenhower': u'//upload.wikimedia.org/wikipedia/commons/thumb/6/63/Dwight_D._Eisenhower%2C_official_photo_portrait%2C_May_29%2C_1959.jpg/165px-Dwight_D._Eisenhower%2C_official_photo_portrait%2C_May_29%2C_1959.jpg',\n",
        " u'Franklin D. Roosevelt': u'//upload.wikimedia.org/wikipedia/commons/thumb/f/fc/Franklin_D._Roosevelt_-_NARA_-_535943.jpg/165px-Franklin_D._Roosevelt_-_NARA_-_535943.jpg',\n",
        " u'Franklin Pierce': u'//upload.wikimedia.org/wikipedia/commons/thumb/4/46/Mathew_Brady_-_Franklin_Pierce_-_alternate_crop.jpg/165px-Mathew_Brady_-_Franklin_Pierce_-_alternate_crop.jpg',\n",
        " u'George H. W. Bush': u'//upload.wikimedia.org/wikipedia/commons/thumb/0/0f/George_H._W._Bush%2C_President_of_the_United_States%2C_1989_official_portrait.jpg/165px-George_H._W._Bush%2C_President_of_the_United_States%2C_1989_official_portrait.jpg',\n",
        " u'George W. Bush': u'//upload.wikimedia.org/wikipedia/commons/thumb/d/d4/George-W-Bush.jpeg/165px-George-W-Bush.jpeg',\n",
        " u'George Washington': u'//upload.wikimedia.org/wikipedia/commons/thumb/b/b6/Gilbert_Stuart_Williamstown_Portrait_of_George_Washington.jpg/164px-Gilbert_Stuart_Williamstown_Portrait_of_George_Washington.jpg',\n",
        " u'Gerald Ford': u'//upload.wikimedia.org/wikipedia/commons/thumb/d/d0/Gerald_Ford_-_NARA_-_530680.tif/lossy-page1-165px-Gerald_Ford_-_NARA_-_530680.tif.jpg',\n",
        " u'Grover Cleveland': u'//upload.wikimedia.org/wikipedia/commons/thumb/3/3b/Grover_Cleveland_-_NARA_-_518139.jpg/165px-Grover_Cleveland_-_NARA_-_518139.jpg',\n",
        " u'Harry S. Truman': u'//upload.wikimedia.org/wikipedia/commons/thumb/a/a6/Harry_S_Truman_-_NARA_-_530677_%282%29.jpg/165px-Harry_S_Truman_-_NARA_-_530677_%282%29.jpg',\n",
        " u'Herbert Hoover': u'//upload.wikimedia.org/wikipedia/commons/thumb/9/97/Herbert_Hoover.jpg/165px-Herbert_Hoover.jpg',\n",
        " u'James A. Garfield': u'//upload.wikimedia.org/wikipedia/commons/thumb/1/1f/James_Abram_Garfield%2C_photo_portrait_seated.jpg/165px-James_Abram_Garfield%2C_photo_portrait_seated.jpg',\n",
        " u'James Buchanan': u'//upload.wikimedia.org/wikipedia/commons/thumb/f/fd/James_Buchanan.jpg/165px-James_Buchanan.jpg',\n",
        " u'James K. Polk': u'//upload.wikimedia.org/wikipedia/commons/thumb/b/be/Polkpolk.jpg/165px-Polkpolk.jpg',\n",
        " u'James Madison': u'//upload.wikimedia.org/wikipedia/commons/thumb/1/1d/James_Madison.jpg/165px-James_Madison.jpg',\n",
        " u'James Monroe': u'//upload.wikimedia.org/wikipedia/commons/thumb/9/95/James_Monroe_White_House_portrait_1819.gif/165px-James_Monroe_White_House_portrait_1819.gif',\n",
        " u'Jimmy Carter': u'//upload.wikimedia.org/wikipedia/commons/thumb/5/5a/JimmyCarterPortrait2.jpg/165px-JimmyCarterPortrait2.jpg',\n",
        " u'John Adams': u'//upload.wikimedia.org/wikipedia/commons/thumb/d/df/Official_Presidential_portrait_of_John_Adams_%28by_John_Trumbull%2C_circa_1792%29.jpg/165px-Official_Presidential_portrait_of_John_Adams_%28by_John_Trumbull%2C_circa_1792%29.jpg',\n",
        " u'John F. Kennedy': u'//upload.wikimedia.org/wikipedia/commons/thumb/c/c3/John_F._Kennedy%2C_White_House_color_photo_portrait.jpg/165px-John_F._Kennedy%2C_White_House_color_photo_portrait.jpg',\n",
        " u'John Quincy Adams': u'//upload.wikimedia.org/wikipedia/commons/thumb/5/51/JQA_Photo.tif/lossy-page1-165px-JQA_Photo.tif.jpg',\n",
        " u'John Tyler': u'//upload.wikimedia.org/wikipedia/commons/thumb/5/55/Tyler_Daguerreotype_%28restoration%29.jpg/165px-Tyler_Daguerreotype_%28restoration%29.jpg',\n",
        " u'Lyndon B. Johnson': u'//upload.wikimedia.org/wikipedia/commons/thumb/7/72/Lyndon_B._Johnson%2C_photo_portrait%2C_leaning_on_chair%2C_color_cropped.jpg/165px-Lyndon_B._Johnson%2C_photo_portrait%2C_leaning_on_chair%2C_color_cropped.jpg',\n",
        " u'Martin Van Buren': u'//upload.wikimedia.org/wikipedia/commons/thumb/1/1f/Martin_Van_Buren_by_Mathew_Brady_c1855-58.jpg/165px-Martin_Van_Buren_by_Mathew_Brady_c1855-58.jpg',\n",
        " u'Millard Fillmore': u'//upload.wikimedia.org/wikipedia/commons/thumb/d/d7/Millard_Fillmore-Edit1.jpg/165px-Millard_Fillmore-Edit1.jpg',\n",
        " u'Richard Nixon': u'//upload.wikimedia.org/wikipedia/commons/thumb/9/98/Richard_M._Nixon%2C_ca._1935_-_1982_-_NARA_-_530679.tif/lossy-page1-165px-Richard_M._Nixon%2C_ca._1935_-_1982_-_NARA_-_530679.tif.jpg',\n",
        " u'Ronald Reagan': u'//upload.wikimedia.org/wikipedia/commons/thumb/1/16/Official_Portrait_of_President_Reagan_1981.jpg/165px-Official_Portrait_of_President_Reagan_1981.jpg',\n",
        " u'Rutherford B. Hayes': u'//upload.wikimedia.org/wikipedia/commons/thumb/5/50/President_Rutherford_Hayes_1870_-_1880_Restored.jpg/165px-President_Rutherford_Hayes_1870_-_1880_Restored.jpg',\n",
        " u'Theodore Roosevelt': u'//upload.wikimedia.org/wikipedia/commons/thumb/e/eb/T_Roosevelt.jpg/165px-T_Roosevelt.jpg',\n",
        " u'Thomas Jefferson': u'//upload.wikimedia.org/wikipedia/commons/thumb/1/1e/Thomas_Jefferson_by_Rembrandt_Peale%2C_1800.jpg/165px-Thomas_Jefferson_by_Rembrandt_Peale%2C_1800.jpg',\n",
        " u'Ulysses S. Grant': u'//upload.wikimedia.org/wikipedia/commons/thumb/d/d7/Ulysses_Grant_1870-1880.jpg/165px-Ulysses_Grant_1870-1880.jpg',\n",
        " u'Warren G. Harding': u'//upload.wikimedia.org/wikipedia/commons/thumb/c/c4/Warren_G_Harding-Harris_%26_Ewing.jpg/165px-Warren_G_Harding-Harris_%26_Ewing.jpg',\n",
        " u'William Henry Harrison': u'//upload.wikimedia.org/wikipedia/commons/thumb/c/c5/William_Henry_Harrison_daguerreotype_edit.jpg/165px-William_Henry_Harrison_daguerreotype_edit.jpg',\n",
        " u'William Howard Taft': u'//upload.wikimedia.org/wikipedia/commons/thumb/9/9b/William_Howard_Taft_1909.jpg/160px-William_Howard_Taft_1909.jpg',\n",
        " u'William McKinley': u'//upload.wikimedia.org/wikipedia/commons/thumb/a/a9/William_McKinley_by_Courtney_Art_Studio%2C_1896.jpg/165px-William_McKinley_by_Courtney_Art_Studio%2C_1896.jpg',\n",
        " u'Woodrow Wilson': u'//upload.wikimedia.org/wikipedia/commons/thumb/5/53/Thomas_Woodrow_Wilson%2C_Harris_%26_Ewing_bw_photo_portrait%2C_1919.jpg/165px-Thomas_Woodrow_Wilson%2C_Harris_%26_Ewing_bw_photo_portrait%2C_1919.jpg',\n",
        " u'Zachary Taylor': u'//upload.wikimedia.org/wikipedia/commons/thumb/a/a6/Zachary_Taylor_restored_and_cropped.png/165px-Zachary_Taylor_restored_and_cropped.png'}"
       ]
      }
     ],
     "prompt_number": 128
    },
    {
     "cell_type": "code",
     "collapsed": false,
     "input": [],
     "language": "python",
     "metadata": {},
     "outputs": []
    }
   ],
   "metadata": {}
  }
 ]
}