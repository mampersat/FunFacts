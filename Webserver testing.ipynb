{
 "metadata": {
  "name": ""
 },
 "nbformat": 3,
 "nbformat_minor": 0,
 "worksheets": [
  {
   "cells": [
    {
     "cell_type": "code",
     "collapsed": false,
     "input": [
      "import SimpleHTTPServer\n",
      "import SocketServer\n",
      "\n",
      "PORT = 8000\n",
      "\n",
      "Handler = SimpleHTTPServer.SimpleHTTPRequestHandler\n",
      "\n",
      "httpd = SocketServer.TCPServer((\"\", PORT), Handler)\n",
      "\n",
      "print \"serving at port\", PORT\n",
      "httpd.serve_forever()"
     ],
     "language": "python",
     "metadata": {},
     "outputs": [],
     "prompt_number": 1
    },
    {
     "cell_type": "code",
     "collapsed": false,
     "input": [],
     "language": "python",
     "metadata": {},
     "outputs": []
    }
   ],
   "metadata": {}
  }
 ]
}