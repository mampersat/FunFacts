{
 "metadata": {
  "name": ""
 },
 "nbformat": 3,
 "nbformat_minor": 0,
 "worksheets": [
  {
   "cells": [
    {
     "cell_type": "code",
     "collapsed": false,
     "input": [
      "import requests\n",
      "import datetime\n",
      "import json\n",
      "import calendar\n",
      "\n",
      "# Setup\n",
      "t = datetime.date.today()\n",
      "l = \"Concord, NH\"\n",
      "\n",
      "def darkness_loc(t, l, tz):\n",
      "    url = \"http://api.usno.navy.mil/rstt/oneday?date={}/{}/{}&loc={}&tz={}\".format(t.month, t.day, t.year, l, tz)\n",
      "    return darkness_url(url)\n",
      "\n",
      "def darkness_coords(t,coords, tz):\n",
      "    url = \"http://api.usno.navy.mil/rstt/oneday?date={}/{}/{}&coords={}&tz={}\".format(t.month, t.day, t.year, coords, tz)\n",
      "    return darkness_url(url)\n",
      "    \n",
      "\n",
      "def darkness_url(url):\n",
      "    r = requests.get(url)\n",
      "    j = r.text\n",
      "    d = json.loads(j)\n",
      "    ec = d['sundata'][4][\"time\"]\n",
      "   \n",
      "    #convert to python time\n",
      "    #read all of this: https://docs.python.org/2/library/datetime.html\n",
      "    #date_object = datetime.datetime.strptime(ec, '%I:%M%p')\n",
      "    return ec\n",
      "\n",
      "print darkness_coords(t,'43.131944, -71.549167', -5) #Bow\n",
      "print darkness_coords(t, '18.333333, -64.916667', -4) # St. Thomas "
     ],
     "language": "python",
     "metadata": {},
     "outputs": [
      {
       "output_type": "stream",
       "stream": "stdout",
       "text": [
        "17:21\n",
        "18:33"
       ]
      },
      {
       "output_type": "stream",
       "stream": "stdout",
       "text": [
        "\n"
       ]
      }
     ],
     "prompt_number": 147
    },
    {
     "cell_type": "code",
     "collapsed": false,
     "input": [
      "# show civil twilight for vacation\n",
      "s = datetime.date(2016,2,21)\n",
      "dict = {}\n",
      "\n",
      "for i in range(0, 7):\n",
      "    t = s + datetime.timedelta(days=i)\n",
      "    nh = darkness_coords(t,'43.131944, -71.549167', -5) #Bow\n",
      "    st = darkness_coords(t, '18.333333, -64.916667', -4) # St. Thomas \n",
      "    print \"{} : NH {} ST {}\".format(t.isoformat(),nh,st)"
     ],
     "language": "python",
     "metadata": {},
     "outputs": [
      {
       "output_type": "stream",
       "stream": "stdout",
       "text": [
        "2016-02-21 : NH 17:53 ST 18:45\n",
        "2016-02-22 : NH 17:55 ST 18:45"
       ]
      },
      {
       "output_type": "stream",
       "stream": "stdout",
       "text": [
        "\n",
        "2016-02-23 : NH 17:56 ST 18:46"
       ]
      },
      {
       "output_type": "stream",
       "stream": "stdout",
       "text": [
        "\n",
        "2016-02-24 : NH 17:57 ST 18:46"
       ]
      },
      {
       "output_type": "stream",
       "stream": "stdout",
       "text": [
        "\n",
        "2016-02-25 : NH 17:58 ST 18:46"
       ]
      },
      {
       "output_type": "stream",
       "stream": "stdout",
       "text": [
        "\n",
        "2016-02-26 : NH 18:00 ST 18:47"
       ]
      },
      {
       "output_type": "stream",
       "stream": "stdout",
       "text": [
        "\n",
        "2016-02-27 : NH 18:01 ST 18:47"
       ]
      },
      {
       "output_type": "stream",
       "stream": "stdout",
       "text": [
        "\n"
       ]
      }
     ],
     "prompt_number": 146
    },
    {
     "cell_type": "code",
     "collapsed": false,
     "input": [
      "    \n",
      "def matt_birthdays(t):\n",
      "    \"\"\"Returns the count of the string 'matt' on wikipedia birthday page\"\"\"\n",
      "    url = \"https://en.wikipedia.org/wiki/{}_{}\".format(calendar.month_name[t.month], t.day)\n",
      "    r = requests.get(url)\n",
      "    html = r.text\n",
      "    \n",
      "    #trim before Births and after Deaths\n",
      "    n = html.find('id=\"Births\"')\n",
      "    html = html[n:]\n",
      "    n = html.find('id=\"Deaths\"')\n",
      "    html = html[:n]\n",
      "    m = html.count(\"Matt\")/3\n",
      "    return m\n",
      "    \n",
      "print \"{} is when it will get dark today\".format(darkness(t))\n",
      "print \"{} people named Matt were born today\".format(matt_birthdays(t))\n",
      "\n",
      "#Figure out how many people named Matt were born today"
     ],
     "language": "python",
     "metadata": {},
     "outputs": []
    },
    {
     "cell_type": "code",
     "collapsed": false,
     "input": [],
     "language": "python",
     "metadata": {},
     "outputs": []
    },
    {
     "cell_type": "code",
     "collapsed": false,
     "input": [
      "# Scan an entire year of matt_birthdays, storing in dict\n",
      "s = datetime.date(2016,1,1)\n",
      "dict = {}\n",
      "\n",
      "for i in range(0, 365):\n",
      "    t = s + datetime.timedelta(days=i)\n",
      "    m = matt_birthdays(t)\n",
      "    dict[t] = m\n",
      "    print \"{} Matts Born {}\".format(t.isoformat(),m)\n"
     ],
     "language": "python",
     "metadata": {},
     "outputs": [],
     "prompt_number": 129
    },
    {
     "cell_type": "code",
     "collapsed": false,
     "input": [
      "import numpy\n",
      "\n",
      "# Do some analysis\n",
      "print \"{} Average Matts born per day\".format(numpy.mean(dict.values()))\n",
      "print \"{} Max Matts born per day\".format(numpy.max(dict.values()))\n"
     ],
     "language": "python",
     "metadata": {},
     "outputs": [
      {
       "output_type": "stream",
       "stream": "stdout",
       "text": [
        "1.39452054795 Average Matts born per day\n",
        "6 Max Matts born per day\n"
       ]
      }
     ],
     "prompt_number": 128
    },
    {
     "cell_type": "code",
     "collapsed": false,
     "input": [],
     "language": "python",
     "metadata": {},
     "outputs": []
    }
   ],
   "metadata": {}
  }
 ]
}